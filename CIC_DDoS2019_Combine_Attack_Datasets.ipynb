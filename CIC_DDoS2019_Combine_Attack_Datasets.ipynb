{
  "nbformat": 4,
  "nbformat_minor": 0,
  "metadata": {
    "colab": {
      "provenance": [],
      "collapsed_sections": [],
      "toc_visible": true,
      "mount_file_id": "15atponh3U7wHHCVXfHzifSdwA4U6A0gy",
      "authorship_tag": "ABX9TyMHMdyvCGnXjxSrK6R+nKZJ",
      "include_colab_link": true
    },
    "kernelspec": {
      "name": "python3",
      "display_name": "Python 3"
    },
    "language_info": {
      "name": "python"
    },
    "accelerator": "GPU"
  },
  "cells": [
    {
      "cell_type": "markdown",
      "metadata": {
        "id": "view-in-github",
        "colab_type": "text"
      },
      "source": [
        "<a href=\"https://colab.research.google.com/github/H-Gallagher/DDoS-Prediction-using-Machine-Learning/blob/main/CIC_DDoS2019_Combine_Attack_Datasets.ipynb\" target=\"_parent\"><img src=\"https://colab.research.google.com/assets/colab-badge.svg\" alt=\"Open In Colab\"/></a>"
      ]
    },
    {
      "cell_type": "markdown",
      "source": [
        "# File Overview"
      ],
      "metadata": {
        "id": "R5i_RErNFevf"
      }
    },
    {
      "cell_type": "markdown",
      "source": [
        "The following file was created in order to combine the various attack types found in the CIC-DDoS2019 dataset which is publicly available at the following link: https://www.unb.ca/cic/datasets/ddos-2019.html\n",
        "\n",
        "- Approximately 60000 observations sampled from each training-day attack dataset to create a new combined training dataset.\n",
        "- Approximately 40000 observations sampled from each test-day attack dataset to create a new combined test dataset."
      ],
      "metadata": {
        "id": "K1B93u0MFl1h"
      }
    },
    {
      "cell_type": "code",
      "execution_count": null,
      "metadata": {
        "id": "KBHwcJdWibj6"
      },
      "outputs": [],
      "source": [
        "# Import dependencies.\n",
        "import gc\n",
        "import pandas as pd\n",
        "import numpy as np"
      ]
    },
    {
      "cell_type": "markdown",
      "source": [
        "# Output paths"
      ],
      "metadata": {
        "id": "enbVq0tYN9Hj"
      }
    },
    {
      "cell_type": "code",
      "source": [
        "# Create train file to save sampled attack types to.\n",
        "output_path_train=\"/content/drive/MyDrive/Colab Notebooks/CT5108_Data_Analytics_Project/data/CICDDoS2019/DDoS_combined_train.csv\"\n",
        "\n",
        "# Create test file to save sampled attack types to.\n",
        "output_path_test=\"/content/drive/MyDrive/Colab Notebooks/CT5108_Data_Analytics_Project/data/CICDDoS2019/DDoS_combined_test.csv\""
      ],
      "metadata": {
        "id": "Far0OcjGR-FI"
      },
      "execution_count": null,
      "outputs": []
    },
    {
      "cell_type": "markdown",
      "source": [
        "# Create combined training dataset"
      ],
      "metadata": {
        "id": "uToKCLSv4sb9"
      }
    },
    {
      "cell_type": "markdown",
      "source": [
        "## UDP"
      ],
      "metadata": {
        "id": "poQ7Ix_-8tbA"
      }
    },
    {
      "cell_type": "code",
      "source": [
        "# Import DrDoS_UDP.csv (Note file was renamed locally to \"DrDoS_UDP_training_day.csv\")\n",
        "udp = pd.read_csv(\"/content/drive/MyDrive/Colab Notebooks/CT5108_Data_Analytics_Project/data/CICDDoS2019/training/DrDoS_UDP_training_day.csv\", \n",
        "                  header=0, sep=\",\", skipinitialspace=True)"
      ],
      "metadata": {
        "id": "15q4zfN74mGK"
      },
      "execution_count": null,
      "outputs": []
    },
    {
      "cell_type": "code",
      "source": [
        "# Set seed and perform stratified sampling.\n",
        "np.random.seed(17)\n",
        "seed = int(np.random.randint(1, 100, size=1)) \n",
        "\n",
        "# Stratified sampled dataset.\n",
        "udp2 = udp.groupby('Label', group_keys=False).apply(lambda x: x.sample(frac=0.02, random_state=seed))\n",
        "\n",
        "# Release memory: https://stackoverflow.com/questions/39100971/how-do-i-release-memory-used-by-a-pandas-dataframe\n",
        "del udp\n",
        "gc.collect()"
      ],
      "metadata": {
        "colab": {
          "base_uri": "https://localhost:8080/"
        },
        "id": "QPow9PGL4maD",
        "outputId": "5ee62095-91aa-4585-c15a-3c048a766035"
      },
      "execution_count": null,
      "outputs": [
        {
          "output_type": "execute_result",
          "data": {
            "text/plain": [
              "179"
            ]
          },
          "metadata": {},
          "execution_count": 20
        }
      ]
    },
    {
      "cell_type": "code",
      "source": [
        "# Inspect shape.\n",
        "print(udp2.shape)"
      ],
      "metadata": {
        "id": "wHTlQBVJ8Ktl"
      },
      "execution_count": null,
      "outputs": []
    },
    {
      "cell_type": "code",
      "source": [
        "# Inspect value counts.\n",
        "udp2.Label.value_counts()"
      ],
      "metadata": {
        "colab": {
          "base_uri": "https://localhost:8080/"
        },
        "id": "XbQJ1s4XPfBY",
        "outputId": "e77f7e15-efac-4c88-8220-783b34e11cc8"
      },
      "execution_count": null,
      "outputs": [
        {
          "output_type": "execute_result",
          "data": {
            "text/plain": [
              "DrDoS_UDP    62693\n",
              "BENIGN          43\n",
              "Name: Label, dtype: int64"
            ]
          },
          "metadata": {},
          "execution_count": 22
        }
      ]
    },
    {
      "cell_type": "code",
      "source": [
        "# Write sampled dataset to combined file.\n",
        "udp2.to_csv(output_path_train, mode='w', index=False)"
      ],
      "metadata": {
        "id": "Pi5Sj49V8yo9"
      },
      "execution_count": null,
      "outputs": []
    },
    {
      "cell_type": "markdown",
      "source": [
        "## DrDoS_DNS"
      ],
      "metadata": {
        "id": "FDWsVPHo8zJr"
      }
    },
    {
      "cell_type": "code",
      "source": [
        "# Import DrDoS_DNS.csv\n",
        "DrDoS_DNS = pd.read_csv(\"/content/drive/MyDrive/Colab Notebooks/CT5108_Data_Analytics_Project/data/CICDDoS2019/training/DrDoS_DNS.csv\", \n",
        "                        header=0, sep=\",\", skipinitialspace=True, nrows=1000000)  # Total is 1,048,575, too large to load into memory."
      ],
      "metadata": {
        "id": "xkI_LIKWFi5U"
      },
      "execution_count": null,
      "outputs": []
    },
    {
      "cell_type": "code",
      "source": [
        "# Set seed and perform stratified sampling.\n",
        "np.random.seed(33)\n",
        "seed = int(np.random.randint(1, 100, size=1)) \n",
        "\n",
        "# Stratified sampled dataset.\n",
        "DrDoS_DNS2 = DrDoS_DNS.groupby('Label', group_keys=False).apply(lambda x: x.sample(frac=0.06, random_state=seed))\n",
        "\n",
        "# Release memory:\n",
        "del DrDoS_DNS\n",
        "gc.collect()"
      ],
      "metadata": {
        "colab": {
          "base_uri": "https://localhost:8080/"
        },
        "id": "NBouDjRAGSeA",
        "outputId": "3ca04917-77da-4d88-90be-3026355488d3"
      },
      "execution_count": null,
      "outputs": [
        {
          "output_type": "execute_result",
          "data": {
            "text/plain": [
              "88"
            ]
          },
          "metadata": {},
          "execution_count": 23
        }
      ]
    },
    {
      "cell_type": "code",
      "source": [
        "# Inspect shape and labels\n",
        "print(DrDoS_DNS2.shape)"
      ],
      "metadata": {
        "colab": {
          "base_uri": "https://localhost:8080/"
        },
        "id": "YUQdh1F_GlF7",
        "outputId": "da4062bb-5fac-4600-c2be-599666a16040"
      },
      "execution_count": null,
      "outputs": [
        {
          "output_type": "stream",
          "name": "stdout",
          "text": [
            "(60000, 88)\n",
            "Benign labels: 120\n",
            "UDP labels: 59880\n"
          ]
        }
      ]
    },
    {
      "cell_type": "code",
      "source": [
        "# Inspect value counts.\n",
        "DrDoS_DNS2.Label.value_counts()"
      ],
      "metadata": {
        "id": "cWMXRaJbJAL_"
      },
      "execution_count": null,
      "outputs": []
    },
    {
      "cell_type": "code",
      "source": [
        "# Append sampled dataset to combined file.\n",
        "DrDoS_DNS2.to_csv(output_path_train, mode='a', index=False, header=False)"
      ],
      "metadata": {
        "id": "BdEaNOMLHyvJ"
      },
      "execution_count": null,
      "outputs": []
    },
    {
      "cell_type": "markdown",
      "source": [
        "## DrDoS_LDAP"
      ],
      "metadata": {
        "id": "1e3uEnVTMJrf"
      }
    },
    {
      "cell_type": "code",
      "source": [
        "# Import DrDoS_LDAP.csv\n",
        "DrDoS_LDAP = pd.read_csv(\"/content/drive/MyDrive/Colab Notebooks/CT5108_Data_Analytics_Project/data/CICDDoS2019/training/DrDoS_LDAP.csv\", \n",
        "                         header=0, sep=\",\", skipinitialspace=True) "
      ],
      "metadata": {
        "colab": {
          "base_uri": "https://localhost:8080/"
        },
        "id": "MaGpNuZSMNkD",
        "outputId": "ef0a315a-6120-42a3-9949-911c32c7c396"
      },
      "execution_count": null,
      "outputs": [
        {
          "output_type": "stream",
          "name": "stderr",
          "text": [
            "/usr/local/lib/python3.7/dist-packages/IPython/core/interactiveshell.py:2882: DtypeWarning: Columns (85) have mixed types.Specify dtype option on import or set low_memory=False.\n",
            "  exec(code_obj, self.user_global_ns, self.user_ns)\n"
          ]
        }
      ]
    },
    {
      "cell_type": "code",
      "source": [
        "# Set seed and perform stratified sampling.\n",
        "np.random.seed(71)\n",
        "seed = int(np.random.randint(1, 100, size=1)) \n",
        "\n",
        "# Stratified sampled dataset.\n",
        "DrDoS_LDAP2 = DrDoS_LDAP.groupby('Label', group_keys=False).apply(lambda x: x.sample(frac=0.03, random_state=seed))\n",
        "\n",
        "# Release memory:\n",
        "del DrDoS_LDAP\n",
        "gc.collect()"
      ],
      "metadata": {
        "colab": {
          "base_uri": "https://localhost:8080/"
        },
        "id": "i7Zob0J9MNpm",
        "outputId": "3ecd3e08-ff41-44c7-e7d8-07be7d02b8e3"
      },
      "execution_count": null,
      "outputs": [
        {
          "output_type": "execute_result",
          "data": {
            "text/plain": [
              "44"
            ]
          },
          "metadata": {},
          "execution_count": 13
        }
      ]
    },
    {
      "cell_type": "code",
      "source": [
        "# Inspect shape.\n",
        "print(DrDoS_LDAP2.shape)"
      ],
      "metadata": {
        "colab": {
          "base_uri": "https://localhost:8080/"
        },
        "id": "UONatNDQMNxr",
        "outputId": "6e9c7111-a13b-47fa-a52f-b646c2d647d6"
      },
      "execution_count": null,
      "outputs": [
        {
          "output_type": "stream",
          "name": "stdout",
          "text": [
            "(65446, 88)\n",
            "Benign labels: 48\n",
            "UDP labels: 65398\n"
          ]
        }
      ]
    },
    {
      "cell_type": "code",
      "source": [
        "# Inspect value counts.\n",
        "DrDoS_LDAP2.Label.value_counts()"
      ],
      "metadata": {
        "colab": {
          "base_uri": "https://localhost:8080/"
        },
        "id": "cRS7j4O0NXW-",
        "outputId": "0e983ca4-e8c3-48cc-af76-b74650ce588b"
      },
      "execution_count": null,
      "outputs": [
        {
          "output_type": "execute_result",
          "data": {
            "text/plain": [
              "DrDoS_LDAP    65398\n",
              "BENIGN           48\n",
              "Name: Label, dtype: int64"
            ]
          },
          "metadata": {},
          "execution_count": 14
        }
      ]
    },
    {
      "cell_type": "code",
      "source": [
        "# Append sampled dataset to combined file.\n",
        "DrDoS_LDAP2.to_csv(output_path_train, mode='a', index=False, header=False)"
      ],
      "metadata": {
        "id": "bbtOt6zoMN7j"
      },
      "execution_count": null,
      "outputs": []
    },
    {
      "cell_type": "markdown",
      "source": [
        "## MSSQL"
      ],
      "metadata": {
        "id": "C15A4UTrQB12"
      }
    },
    {
      "cell_type": "code",
      "source": [
        "# Import DrDoS_LDAP.csv\n",
        "MSSQL = pd.read_csv(\"/content/drive/MyDrive/Colab Notebooks/CT5108_Data_Analytics_Project/data/CICDDoS2019/training/DrDoS_MSSQL.csv\", \n",
        "                    header=0, sep=\",\", skipinitialspace=True) "
      ],
      "metadata": {
        "id": "CYJL7xc4QFDM"
      },
      "execution_count": null,
      "outputs": []
    },
    {
      "cell_type": "code",
      "source": [
        "# Set seed and perform stratified sampling.\n",
        "np.random.seed(53)\n",
        "seed = int(np.random.randint(1, 100, size=1)) \n",
        "\n",
        "# Stratified sampled dataset.\n",
        "MSSQL2 = MSSQL.groupby('Label', group_keys=False).apply(lambda x: x.sample(frac=0.013, random_state=seed))\n",
        "\n",
        "# Release memory:\n",
        "del MSSQL\n",
        "gc.collect()"
      ],
      "metadata": {
        "colab": {
          "base_uri": "https://localhost:8080/"
        },
        "id": "okQR0g81QFq1",
        "outputId": "ba8753cc-e365-47d9-a566-03b232207d41"
      },
      "execution_count": null,
      "outputs": [
        {
          "output_type": "execute_result",
          "data": {
            "text/plain": [
              "44"
            ]
          },
          "metadata": {},
          "execution_count": 33
        }
      ]
    },
    {
      "cell_type": "code",
      "source": [
        "# Inspect shape.\n",
        "print(MSSQL2.shape)"
      ],
      "metadata": {
        "colab": {
          "base_uri": "https://localhost:8080/"
        },
        "id": "Tm3rU1uBQFwU",
        "outputId": "18361988-6d43-4226-9fd9-aeb76f7d9269"
      },
      "execution_count": null,
      "outputs": [
        {
          "output_type": "stream",
          "name": "stdout",
          "text": [
            "(58818, 88)\n",
            "Benign labels: 26\n",
            "UDP labels: 58792\n"
          ]
        }
      ]
    },
    {
      "cell_type": "code",
      "source": [
        "# Inspect value counts.\n",
        "MSSQL2.Label.value_counts()"
      ],
      "metadata": {
        "colab": {
          "base_uri": "https://localhost:8080/"
        },
        "id": "y_dt_lAeQ8PF",
        "outputId": "5e9291ff-cb6b-490b-b3ca-4e92aaa3fa94"
      },
      "execution_count": null,
      "outputs": [
        {
          "output_type": "execute_result",
          "data": {
            "text/plain": [
              "DrDoS_MSSQL    58792\n",
              "BENIGN            26\n",
              "Name: Label, dtype: int64"
            ]
          },
          "metadata": {},
          "execution_count": 34
        }
      ]
    },
    {
      "cell_type": "code",
      "source": [
        "# Append sampled dataset to combined file.\n",
        "MSSQL2.to_csv(output_path_train, mode='a', index=False, header=False)"
      ],
      "metadata": {
        "id": "4E4pqXC9QF57"
      },
      "execution_count": null,
      "outputs": []
    },
    {
      "cell_type": "markdown",
      "source": [
        "## DrDoS_NetBIOS"
      ],
      "metadata": {
        "id": "hGQ4ek3RSBdj"
      }
    },
    {
      "cell_type": "code",
      "source": [
        "# Import DrDoS_NetBIOS.csv\n",
        "NetBIOS = pd.read_csv(\"/content/drive/MyDrive/Colab Notebooks/CT5108_Data_Analytics_Project/data/CICDDoS2019/training/DrDoS_NetBIOS.csv\", \n",
        "                      header=0, sep=\",\", skipinitialspace=True) "
      ],
      "metadata": {
        "colab": {
          "base_uri": "https://localhost:8080/"
        },
        "id": "IhIZ8DJkSFC7",
        "outputId": "6c5b41c0-e62a-4c84-ae92-881f23b9efbf"
      },
      "execution_count": null,
      "outputs": [
        {
          "output_type": "stream",
          "name": "stderr",
          "text": [
            "/usr/local/lib/python3.7/dist-packages/IPython/core/interactiveshell.py:2882: DtypeWarning: Columns (85) have mixed types.Specify dtype option on import or set low_memory=False.\n",
            "  exec(code_obj, self.user_global_ns, self.user_ns)\n"
          ]
        }
      ]
    },
    {
      "cell_type": "code",
      "source": [
        "# Set seed and perform stratified sampling.\n",
        "np.random.seed(37)\n",
        "seed = int(np.random.randint(1, 100, size=1)) \n",
        "\n",
        "# Stratified sampled dataset.\n",
        "NetBIOS2 = NetBIOS.groupby('Label', group_keys=False).apply(lambda x: x.sample(frac=0.0155, random_state=seed))\n",
        "\n",
        "# Release memory.\n",
        "del NetBIOS\n",
        "gc.collect()"
      ],
      "metadata": {
        "colab": {
          "base_uri": "https://localhost:8080/"
        },
        "id": "aZRIxStBSFFS",
        "outputId": "627909bd-d828-40b8-8792-5abdf69a24ae"
      },
      "execution_count": null,
      "outputs": [
        {
          "output_type": "execute_result",
          "data": {
            "text/plain": [
              "44"
            ]
          },
          "metadata": {},
          "execution_count": 47
        }
      ]
    },
    {
      "cell_type": "code",
      "source": [
        "# Inspect shape.\n",
        "print(NetBIOS2.shape)"
      ],
      "metadata": {
        "colab": {
          "base_uri": "https://localhost:8080/"
        },
        "id": "WLD1u6VHSFX8",
        "outputId": "b7c8ef94-2c5e-4ff7-b65b-d34bb48c0d39"
      },
      "execution_count": null,
      "outputs": [
        {
          "output_type": "stream",
          "name": "stdout",
          "text": [
            "(63472, 88)\n",
            "Benign labels: 26\n",
            "UDP labels: 63446\n"
          ]
        }
      ]
    },
    {
      "cell_type": "code",
      "source": [
        "# Inspect value counts.\n",
        "NetBIOS2.Label.value_counts()"
      ],
      "metadata": {
        "colab": {
          "base_uri": "https://localhost:8080/"
        },
        "id": "Jeu1SQi4SFN4",
        "outputId": "bbd97c2a-c8e1-41a7-d89b-4be920ea4f9e"
      },
      "execution_count": null,
      "outputs": [
        {
          "output_type": "execute_result",
          "data": {
            "text/plain": [
              "DrDoS_NetBIOS    63446\n",
              "BENIGN              26\n",
              "Name: Label, dtype: int64"
            ]
          },
          "metadata": {},
          "execution_count": 48
        }
      ]
    },
    {
      "cell_type": "code",
      "source": [
        "# Append sampled dataset to combined file.\n",
        "NetBIOS2.to_csv(output_path_train, mode='a', index=False, header=False)"
      ],
      "metadata": {
        "id": "gLuKva7lSWNn"
      },
      "execution_count": null,
      "outputs": []
    },
    {
      "cell_type": "markdown",
      "source": [
        "## DrDoS_NTP"
      ],
      "metadata": {
        "id": "Ac8-fwg9Tifn"
      }
    },
    {
      "cell_type": "code",
      "source": [
        "# Import DrDoS_NTP.csv\n",
        "DrDoS_NTP = pd.read_csv(\"/content/drive/MyDrive/Colab Notebooks/CT5108_Data_Analytics_Project/data/CICDDoS2019/training/DrDoS_NTP.csv\", \n",
        "                        header=0, sep=\",\", skipinitialspace=True) "
      ],
      "metadata": {
        "colab": {
          "base_uri": "https://localhost:8080/"
        },
        "id": "cPOR_O0KTi5n",
        "outputId": "26a3b60a-a6c2-4523-8753-739b5a652374"
      },
      "execution_count": null,
      "outputs": [
        {
          "output_type": "stream",
          "name": "stderr",
          "text": [
            "/usr/local/lib/python3.7/dist-packages/IPython/core/interactiveshell.py:2882: DtypeWarning: Columns (85) have mixed types.Specify dtype option on import or set low_memory=False.\n",
            "  exec(code_obj, self.user_global_ns, self.user_ns)\n"
          ]
        }
      ]
    },
    {
      "cell_type": "code",
      "source": [
        "# Set seed and perform stratified sampling.\n",
        "np.random.seed(94)\n",
        "seed = int(np.random.randint(1, 100, size=1)) \n",
        "\n",
        "# Stratified sampled dataset.\n",
        "DrDoS_NTP2 = DrDoS_NTP.groupby('Label', group_keys=False).apply(lambda x: x.sample(frac=0.05, random_state=seed))\n",
        "\n",
        "# Release memory.\n",
        "del DrDoS_NTP\n",
        "gc.collect()"
      ],
      "metadata": {
        "id": "dso0WEUyTi8A"
      },
      "execution_count": null,
      "outputs": []
    },
    {
      "cell_type": "code",
      "source": [
        "# Inspect shape.\n",
        "print(DrDoS_NTP2.shape)"
      ],
      "metadata": {
        "colab": {
          "base_uri": "https://localhost:8080/"
        },
        "id": "17qhEM7ATjG-",
        "outputId": "ff2b4445-e049-4d29-e456-f3e63a8fae15"
      },
      "execution_count": null,
      "outputs": [
        {
          "output_type": "stream",
          "name": "stdout",
          "text": [
            "(60850, 88)\n",
            "Benign labels: 718\n",
            "UDP labels: 60132\n"
          ]
        }
      ]
    },
    {
      "cell_type": "code",
      "source": [
        "# Inspect value counts.\n",
        "DrDoS_NTP2.Label.value_counts()"
      ],
      "metadata": {
        "colab": {
          "base_uri": "https://localhost:8080/"
        },
        "id": "5xcwVdbsTjCE",
        "outputId": "4e3d13ca-9cec-4208-fa86-b06f85ed9a16"
      },
      "execution_count": null,
      "outputs": [
        {
          "output_type": "execute_result",
          "data": {
            "text/plain": [
              "DrDoS_NTP    60132\n",
              "BENIGN         718\n",
              "Name: Label, dtype: int64"
            ]
          },
          "metadata": {},
          "execution_count": 24
        }
      ]
    },
    {
      "cell_type": "code",
      "source": [
        "# Append sampled dataset to combined file.\n",
        "DrDoS_NTP2.to_csv(output_path_train, mode='a', index=False, header=False)"
      ],
      "metadata": {
        "id": "igpXTZ3vTjJl"
      },
      "execution_count": null,
      "outputs": []
    },
    {
      "cell_type": "markdown",
      "source": [
        "## DrDoS_SNMP"
      ],
      "metadata": {
        "id": "209-lGnfVU_a"
      }
    },
    {
      "cell_type": "code",
      "source": [
        "# Import DrDoS_SNMP.csv\n",
        "DrDoS_SNMP = pd.read_csv(\"/content/drive/MyDrive/Colab Notebooks/CT5108_Data_Analytics_Project/data/CICDDoS2019/training/DrDoS_SNMP.csv\", \n",
        "                         header=0, sep=\",\", skipinitialspace=True, nrows=1050000) "
      ],
      "metadata": {
        "colab": {
          "base_uri": "https://localhost:8080/"
        },
        "id": "7NiD0CXUVYza",
        "outputId": "2a68d00b-41eb-428d-9640-7a61abc58e31"
      },
      "execution_count": null,
      "outputs": [
        {
          "output_type": "stream",
          "name": "stderr",
          "text": [
            "/usr/local/lib/python3.7/dist-packages/IPython/core/interactiveshell.py:2882: DtypeWarning: Columns (85) have mixed types.Specify dtype option on import or set low_memory=False.\n",
            "  exec(code_obj, self.user_global_ns, self.user_ns)\n"
          ]
        }
      ]
    },
    {
      "cell_type": "code",
      "source": [
        "# Set seed and perform stratified sampling.\n",
        "np.random.seed(11)\n",
        "seed = int(np.random.randint(1, 100, size=1)) \n",
        "\n",
        "# Stratified sampled dataset.\n",
        "DrDoS_SNMP2 = DrDoS_SNMP.groupby('Label', group_keys=False).apply(lambda x: x.sample(frac=0.06, random_state=seed))\n",
        "\n",
        "# Release memory.\n",
        "del DrDoS_NTP\n",
        "gc.collect()"
      ],
      "metadata": {
        "id": "hjSC-YqTVY2a"
      },
      "execution_count": null,
      "outputs": []
    },
    {
      "cell_type": "code",
      "source": [
        "# Inspect shape.\n",
        "print(DrDoS_SNMP2.shape)"
      ],
      "metadata": {
        "colab": {
          "base_uri": "https://localhost:8080/"
        },
        "id": "9lwOdclXVZDi",
        "outputId": "5289eb16-0848-4a6f-d618-2b2c83c28b75"
      },
      "execution_count": null,
      "outputs": [
        {
          "output_type": "stream",
          "name": "stdout",
          "text": [
            "(63000, 88)\n",
            "Benign labels: 49\n",
            "UDP labels: 62951\n"
          ]
        }
      ]
    },
    {
      "cell_type": "code",
      "source": [
        "# Inspect value counts.\n",
        "DrDoS_SNMP2.Label.value_counts()"
      ],
      "metadata": {
        "colab": {
          "base_uri": "https://localhost:8080/"
        },
        "id": "ZokWUC5jVY5J",
        "outputId": "a4586382-8868-493a-acae-4ae6fa39cf56"
      },
      "execution_count": null,
      "outputs": [
        {
          "output_type": "execute_result",
          "data": {
            "text/plain": [
              "DrDoS_SNMP    62951\n",
              "BENIGN           49\n",
              "Name: Label, dtype: int64"
            ]
          },
          "metadata": {},
          "execution_count": 15
        }
      ]
    },
    {
      "cell_type": "code",
      "source": [
        "# Append sampled dataset to combined file.\n",
        "DrDoS_SNMP2.to_csv(output_path_train, mode='a', index=False, header=False)"
      ],
      "metadata": {
        "id": "hXOdXtbXVksr"
      },
      "execution_count": null,
      "outputs": []
    },
    {
      "cell_type": "markdown",
      "source": [
        "## DrDoS_SSDP"
      ],
      "metadata": {
        "id": "RHFQsWYvZsvj"
      }
    },
    {
      "cell_type": "code",
      "source": [
        "# Import DrDoS_SSDP.csv\n",
        "DrDoS_SSDP = pd.read_csv(\"/content/drive/MyDrive/Colab Notebooks/CT5108_Data_Analytics_Project/data/CICDDoS2019/training/DrDoS_SSDP.csv\", \n",
        "                         header=0, sep=\",\", skipinitialspace=True) "
      ],
      "metadata": {
        "id": "hfLffH_XZ-Pb",
        "colab": {
          "base_uri": "https://localhost:8080/"
        },
        "outputId": "a95d6e42-c7a1-438b-e9c7-75f9db9d425b"
      },
      "execution_count": null,
      "outputs": [
        {
          "output_type": "stream",
          "name": "stderr",
          "text": [
            "/usr/local/lib/python3.7/dist-packages/IPython/core/interactiveshell.py:2882: DtypeWarning: Columns (85) have mixed types.Specify dtype option on import or set low_memory=False.\n",
            "  exec(code_obj, self.user_global_ns, self.user_ns)\n"
          ]
        }
      ]
    },
    {
      "cell_type": "code",
      "source": [
        "# Set seed and perform stratified sampling.\n",
        "np.random.seed(11)\n",
        "seed = int(np.random.randint(1, 100, size=1)) \n",
        "\n",
        "# Stratified sampled dataset.\n",
        "DrDoS_SSDP2 = DrDoS_SSDP.groupby('Label', group_keys=False).apply(lambda x: x.sample(frac=0.023, random_state=seed))\n",
        "\n",
        "# Release memory.\n",
        "del DrDoS_NTP\n",
        "gc.collect()"
      ],
      "metadata": {
        "id": "TR3IGOMMZ-SE"
      },
      "execution_count": null,
      "outputs": []
    },
    {
      "cell_type": "code",
      "source": [
        "del DrDoS_SSDP\n",
        "gc.collect()"
      ],
      "metadata": {
        "colab": {
          "base_uri": "https://localhost:8080/"
        },
        "id": "MFNqvrgOyWOd",
        "outputId": "e31883b9-1f72-469d-eaa3-7c30526f83e3"
      },
      "execution_count": null,
      "outputs": [
        {
          "output_type": "execute_result",
          "data": {
            "text/plain": [
              "326"
            ]
          },
          "metadata": {},
          "execution_count": 31
        }
      ]
    },
    {
      "cell_type": "code",
      "source": [
        "# Inspect shape.\n",
        "print(DrDoS_SSDP2.shape)"
      ],
      "metadata": {
        "id": "8h2dtXjzZ-qa",
        "colab": {
          "base_uri": "https://localhost:8080/"
        },
        "outputId": "b533a627-dfc9-450b-b07d-252c7c1f3711"
      },
      "execution_count": null,
      "outputs": [
        {
          "output_type": "stream",
          "name": "stdout",
          "text": [
            "(60062, 88)\n",
            "Benign labels: 18\n",
            "UDP labels: 60044\n"
          ]
        }
      ]
    },
    {
      "cell_type": "code",
      "source": [
        "# Inspect value counts.\n",
        "DrDoS_SSDP2.Label.value_counts()"
      ],
      "metadata": {
        "id": "WxwKYnS3Z-dg",
        "colab": {
          "base_uri": "https://localhost:8080/"
        },
        "outputId": "1cb079f5-06dd-425e-d35a-7f6b05065709"
      },
      "execution_count": null,
      "outputs": [
        {
          "output_type": "execute_result",
          "data": {
            "text/plain": [
              "DrDoS_SSDP    60044\n",
              "BENIGN           18\n",
              "Name: Label, dtype: int64"
            ]
          },
          "metadata": {},
          "execution_count": 17
        }
      ]
    },
    {
      "cell_type": "code",
      "source": [
        "# Append sampled dataset to combined file.\n",
        "DrDoS_SSDP2.to_csv(output_path_train, mode='a', index=False, header=False)"
      ],
      "metadata": {
        "id": "DnCs4YjnZ-93"
      },
      "execution_count": null,
      "outputs": []
    },
    {
      "cell_type": "markdown",
      "source": [
        "## Syn"
      ],
      "metadata": {
        "id": "Gn1bUVb7xXIF"
      }
    },
    {
      "cell_type": "code",
      "source": [
        "# Import Syn.csv\n",
        "Syn = pd.read_csv(\"/content/drive/MyDrive/Colab Notebooks/CT5108_Data_Analytics_Project/data/CICDDoS2019/training/Syn.csv\", \n",
        "                  header=0, sep=\",\", skipinitialspace=True) "
      ],
      "metadata": {
        "colab": {
          "base_uri": "https://localhost:8080/"
        },
        "id": "1diGOfUVxbR-",
        "outputId": "d804d3f2-89ba-4a04-b757-70d5f573240c"
      },
      "execution_count": null,
      "outputs": [
        {
          "output_type": "stream",
          "name": "stderr",
          "text": [
            "/usr/local/lib/python3.7/dist-packages/IPython/core/interactiveshell.py:2882: DtypeWarning: Columns (85) have mixed types.Specify dtype option on import or set low_memory=False.\n",
            "  exec(code_obj, self.user_global_ns, self.user_ns)\n"
          ]
        }
      ]
    },
    {
      "cell_type": "code",
      "source": [
        "# Set seed and perform stratified sampling.\n",
        "np.random.seed(11)\n",
        "seed = int(np.random.randint(1, 100, size=1)) \n",
        "\n",
        "# Stratified sampled dataset.\n",
        "Syn2 = Syn.groupby('Label', group_keys=False).apply(lambda x: x.sample(frac=0.04, random_state=seed))\n",
        "\n",
        "# Release memory.\n",
        "del Syn\n",
        "gc.collect()"
      ],
      "metadata": {
        "colab": {
          "base_uri": "https://localhost:8080/"
        },
        "id": "cJzUCs9AxbcF",
        "outputId": "c0d188a9-6bb4-44f3-8cbd-4c6db5ec4402"
      },
      "execution_count": null,
      "outputs": [
        {
          "output_type": "execute_result",
          "data": {
            "text/plain": [
              "276"
            ]
          },
          "metadata": {},
          "execution_count": 27
        }
      ]
    },
    {
      "cell_type": "code",
      "source": [
        "# Inspect shape.\n",
        "print(Syn2.shape)"
      ],
      "metadata": {
        "colab": {
          "base_uri": "https://localhost:8080/"
        },
        "id": "vvXLy5DUxbiV",
        "outputId": "043b0a26-c403-46b7-aec6-2333c214f0a5"
      },
      "execution_count": null,
      "outputs": [
        {
          "output_type": "stream",
          "name": "stdout",
          "text": [
            "(63308, 88)\n",
            "Benign labels: 16\n",
            "UDP labels: 63292\n"
          ]
        }
      ]
    },
    {
      "cell_type": "code",
      "source": [
        "# Inspect value counts.\n",
        "Syn2.Label.value_counts()"
      ],
      "metadata": {
        "colab": {
          "base_uri": "https://localhost:8080/"
        },
        "id": "UsNMkH0-xbf1",
        "outputId": "9fa149c6-3815-4fc0-b275-f6a8d5301d70"
      },
      "execution_count": null,
      "outputs": [
        {
          "output_type": "execute_result",
          "data": {
            "text/plain": [
              "Syn       63292\n",
              "BENIGN       16\n",
              "Name: Label, dtype: int64"
            ]
          },
          "metadata": {},
          "execution_count": 28
        }
      ]
    },
    {
      "cell_type": "code",
      "source": [
        "# Append sampled dataset to combined file.\n",
        "Syn2.to_csv(output_path_train, mode='a', index=False, header=False)"
      ],
      "metadata": {
        "id": "NhbyA-k7xbzN"
      },
      "execution_count": null,
      "outputs": []
    },
    {
      "cell_type": "markdown",
      "source": [
        "## TFTP"
      ],
      "metadata": {
        "id": "J-2vaJJkyLYt"
      }
    },
    {
      "cell_type": "code",
      "source": [
        "# Import TFTP.csv\n",
        "tftp = pd.read_csv(\"/content/drive/MyDrive/Colab Notebooks/CT5108_Data_Analytics_Project/data/CICDDoS2019/training/TFTP.csv\", \n",
        "                   header=0, sep=\",\", skipinitialspace=True, nrows=1000000) "
      ],
      "metadata": {
        "colab": {
          "base_uri": "https://localhost:8080/"
        },
        "id": "v5xjb7IyyPla",
        "outputId": "aba487ce-3330-4762-c41b-40a478cbbe51"
      },
      "execution_count": null,
      "outputs": [
        {
          "output_type": "stream",
          "name": "stderr",
          "text": [
            "/usr/local/lib/python3.7/dist-packages/IPython/core/interactiveshell.py:2882: DtypeWarning: Columns (85) have mixed types.Specify dtype option on import or set low_memory=False.\n",
            "  exec(code_obj, self.user_global_ns, self.user_ns)\n"
          ]
        }
      ]
    },
    {
      "cell_type": "code",
      "source": [
        "# Set seed and perform stratified sampling.\n",
        "np.random.seed(87)\n",
        "seed = int(np.random.randint(1, 100, size=1)) \n",
        "\n",
        "# Stratified sampled dataset.\n",
        "tftp2 = tftp.groupby('Label', group_keys=False).apply(lambda x: x.sample(frac=0.06, random_state=seed))\n",
        "\n",
        "# Release memory.\n",
        "del tftp\n",
        "gc.collect()"
      ],
      "metadata": {
        "id": "TgKSt6OoyPoz"
      },
      "execution_count": null,
      "outputs": []
    },
    {
      "cell_type": "code",
      "source": [
        "# Inspect shape.\n",
        "print(tftp2.shape)"
      ],
      "metadata": {
        "colab": {
          "base_uri": "https://localhost:8080/"
        },
        "id": "rgv9zW_hyPvM",
        "outputId": "446b732d-b8e1-4633-a13e-21cfcfcfe041"
      },
      "execution_count": null,
      "outputs": [
        {
          "output_type": "stream",
          "name": "stdout",
          "text": [
            "(60000, 88)\n",
            "Benign labels: 70\n",
            "UDP labels: 59930\n"
          ]
        }
      ]
    },
    {
      "cell_type": "code",
      "source": [
        "# Inspect value counts.\n",
        "tftp2.Label.value_counts()"
      ],
      "metadata": {
        "colab": {
          "base_uri": "https://localhost:8080/"
        },
        "id": "M1YpLmhkylwn",
        "outputId": "2719af02-42d3-48b3-94c0-df3db0d91169"
      },
      "execution_count": null,
      "outputs": [
        {
          "output_type": "execute_result",
          "data": {
            "text/plain": [
              "TFTP      59930\n",
              "BENIGN       70\n",
              "Name: Label, dtype: int64"
            ]
          },
          "metadata": {},
          "execution_count": 43
        }
      ]
    },
    {
      "cell_type": "code",
      "source": [
        "# Append sampled dataset to combined file.\n",
        "tftp2.to_csv(output_path_train, mode='a', index=False, header=False)"
      ],
      "metadata": {
        "id": "iHKA1eR3yvmV"
      },
      "execution_count": null,
      "outputs": []
    },
    {
      "cell_type": "markdown",
      "source": [
        "## UDPLag"
      ],
      "metadata": {
        "id": "Ddx8AJTizOmk"
      }
    },
    {
      "cell_type": "code",
      "source": [
        "# Import UDPLag.csv\n",
        "UDPLag = pd.read_csv(\"/content/drive/MyDrive/Colab Notebooks/CT5108_Data_Analytics_Project/data/CICDDoS2019/training/UDPLag.csv\", \n",
        "                     header=0, sep=\",\", skipinitialspace=True) "
      ],
      "metadata": {
        "colab": {
          "base_uri": "https://localhost:8080/"
        },
        "id": "qD0w87Y9zSNz",
        "outputId": "67f35a00-66d1-450a-ba4d-5a88f090609e"
      },
      "execution_count": null,
      "outputs": [
        {
          "output_type": "stream",
          "name": "stderr",
          "text": [
            "/usr/local/lib/python3.7/dist-packages/IPython/core/interactiveshell.py:2882: DtypeWarning: Columns (85) have mixed types.Specify dtype option on import or set low_memory=False.\n",
            "  exec(code_obj, self.user_global_ns, self.user_ns)\n"
          ]
        }
      ]
    },
    {
      "cell_type": "code",
      "source": [
        "# Set seed and perform stratified sampling.\n",
        "np.random.seed(87)\n",
        "seed = int(np.random.randint(1, 100, size=1)) \n",
        "\n",
        "# Stratified sampled dataset.\n",
        "UDPLag2 = UDPLag.groupby('Label', group_keys=False).apply(lambda x: x.sample(frac=0.16, random_state=seed))"
      ],
      "metadata": {
        "id": "IbfWQdmLzSZD"
      },
      "execution_count": null,
      "outputs": []
    },
    {
      "cell_type": "code",
      "source": [
        "# Inspect shape.\n",
        "print(UDPLag2.shape)"
      ],
      "metadata": {
        "colab": {
          "base_uri": "https://localhost:8080/"
        },
        "id": "5FFJeYRxzSk_",
        "outputId": "00625d29-94de-4ae1-8a23-23a903f880c2"
      },
      "execution_count": null,
      "outputs": [
        {
          "output_type": "stream",
          "name": "stdout",
          "text": [
            "(59297, 88)\n",
            "Benign labels: 593\n",
            "UDP Lag labels: 58634\n",
            "WebDDoS labels: 70\n"
          ]
        }
      ]
    },
    {
      "cell_type": "code",
      "source": [
        "# Inspect value counts.\n",
        "UDPLag.Label.value_counts()"
      ],
      "metadata": {
        "colab": {
          "base_uri": "https://localhost:8080/"
        },
        "id": "d3XVXyaHzSec",
        "outputId": "4ffae422-a8fa-4588-fd07-4405c8c033e1"
      },
      "execution_count": null,
      "outputs": [
        {
          "output_type": "execute_result",
          "data": {
            "text/plain": [
              "UDP-lag    366461\n",
              "BENIGN       3705\n",
              "WebDDoS       439\n",
              "Name: Label, dtype: int64"
            ]
          },
          "metadata": {},
          "execution_count": 66
        }
      ]
    },
    {
      "cell_type": "code",
      "source": [
        "# Append sampled dataset to combined file.\n",
        "UDPLag2.to_csv(output_path_train, mode='a', index=False, header=False)"
      ],
      "metadata": {
        "id": "cDc09YkLzSqs"
      },
      "execution_count": null,
      "outputs": []
    },
    {
      "cell_type": "markdown",
      "source": [
        "# Create combined test dataset"
      ],
      "metadata": {
        "id": "XFfQq0gu2dzU"
      }
    },
    {
      "cell_type": "markdown",
      "source": [
        "## LDAP"
      ],
      "metadata": {
        "id": "r4-XJozE2gaj"
      }
    },
    {
      "cell_type": "code",
      "source": [
        "# Import LDAP.csv\n",
        "LDAP_test = pd.read_csv(\"/content/drive/MyDrive/Colab Notebooks/CT5108_Data_Analytics_Project/data/CICDDoS2019/testing/LDAP.csv\",\n",
        "                        header=0, sep=\",\", skipinitialspace=True) "
      ],
      "metadata": {
        "colab": {
          "base_uri": "https://localhost:8080/"
        },
        "id": "QWTl8I2mRw5M",
        "outputId": "9f31b33b-c4fa-41a9-e15b-e5cba25cbdd1"
      },
      "execution_count": null,
      "outputs": [
        {
          "output_type": "stream",
          "name": "stderr",
          "text": [
            "/usr/local/lib/python3.7/dist-packages/IPython/core/interactiveshell.py:2882: DtypeWarning: Columns (85) have mixed types.Specify dtype option on import or set low_memory=False.\n",
            "  exec(code_obj, self.user_global_ns, self.user_ns)\n"
          ]
        }
      ]
    },
    {
      "cell_type": "code",
      "source": [
        "# Set seed and perform stratified sampling.\n",
        "np.random.seed(87)\n",
        "seed = int(np.random.randint(1, 100, size=1)) \n",
        "\n",
        "# Stratified sampled dataset.\n",
        "LDAP_test2 = LDAP_test.groupby('Label', group_keys=False).apply(lambda x: x.sample(frac=0.019, random_state=seed))"
      ],
      "metadata": {
        "id": "R2voCCmQRw-5"
      },
      "execution_count": null,
      "outputs": []
    },
    {
      "cell_type": "code",
      "source": [
        "# Inspect shape.\n",
        "print(LDAP_test2.shape)"
      ],
      "metadata": {
        "colab": {
          "base_uri": "https://localhost:8080/"
        },
        "id": "ZKgPzY_oSdQr",
        "outputId": "5894b3fb-a60f-45d4-aacd-60f196c414a0"
      },
      "execution_count": null,
      "outputs": [
        {
          "output_type": "stream",
          "name": "stdout",
          "text": [
            "(40151, 88)\n",
            "Benign labels: 97\n",
            "LDAP labels: 36199\n",
            "NetBIOS labels: 3855\n"
          ]
        }
      ]
    },
    {
      "cell_type": "code",
      "source": [
        "# Inspect value counts.\n",
        "LDAP_test2.Label.value_counts()"
      ],
      "metadata": {
        "colab": {
          "base_uri": "https://localhost:8080/"
        },
        "id": "sxd29djuRxCD",
        "outputId": "12c70d7c-ff75-444d-a1cb-aa6fad250f99"
      },
      "execution_count": null,
      "outputs": [
        {
          "output_type": "execute_result",
          "data": {
            "text/plain": [
              "LDAP       36199\n",
              "NetBIOS     3855\n",
              "BENIGN        97\n",
              "Name: Label, dtype: int64"
            ]
          },
          "metadata": {},
          "execution_count": 13
        }
      ]
    },
    {
      "cell_type": "code",
      "source": [
        "# Write sampled dataset to combined file.\n",
        "LDAP_test2.to_csv(output_path, mode='w', index=False)"
      ],
      "metadata": {
        "id": "R9Qj_LAeRxFB"
      },
      "execution_count": null,
      "outputs": []
    },
    {
      "cell_type": "markdown",
      "source": [
        "## MSSQL"
      ],
      "metadata": {
        "id": "0Fg8qnDwSggk"
      }
    },
    {
      "cell_type": "code",
      "source": [
        "# Import MSSQL.csv\n",
        "MSSQL = pd.read_csv(\"/content/drive/MyDrive/Colab Notebooks/CT5108_Data_Analytics_Project/data/CICDDoS2019/testing/MSSQL.csv\", \n",
        "                    header=0, sep=\",\", skipinitialspace=True, nrows=1100000) "
      ],
      "metadata": {
        "colab": {
          "base_uri": "https://localhost:8080/"
        },
        "id": "wRh90uDhSknT",
        "outputId": "71edfa75-af5e-44b4-f59f-193f5336130a"
      },
      "execution_count": null,
      "outputs": [
        {
          "output_type": "stream",
          "name": "stderr",
          "text": [
            "/usr/local/lib/python3.7/dist-packages/IPython/core/interactiveshell.py:2882: DtypeWarning: Columns (85) have mixed types.Specify dtype option on import or set low_memory=False.\n",
            "  exec(code_obj, self.user_global_ns, self.user_ns)\n"
          ]
        }
      ]
    },
    {
      "cell_type": "code",
      "source": [
        "# Set seed and perform stratified sampling.\n",
        "np.random.seed(3)\n",
        "seed = int(np.random.randint(1, 100, size=1)) \n",
        "\n",
        "# Stratified sampled dataset.\n",
        "MSSQL2 = MSSQL.groupby('Label', group_keys=False).apply(lambda x: x.sample(frac=0.035, random_state=seed))\n",
        "\n",
        "# Release memory.\n",
        "del MSSQL\n",
        "gc.collect()"
      ],
      "metadata": {
        "colab": {
          "base_uri": "https://localhost:8080/"
        },
        "id": "JI4Z9oo5Skqx",
        "outputId": "a7fb0b27-90b8-493d-a523-b18d34385340"
      },
      "execution_count": null,
      "outputs": [
        {
          "output_type": "execute_result",
          "data": {
            "text/plain": [
              "211"
            ]
          },
          "metadata": {},
          "execution_count": 34
        }
      ]
    },
    {
      "cell_type": "code",
      "source": [
        "# Inspect shape.\n",
        "print(MSSQL2.shape)"
      ],
      "metadata": {
        "colab": {
          "base_uri": "https://localhost:8080/"
        },
        "id": "MVb6kYt8UbeK",
        "outputId": "22a2bceb-7620-4e36-ae1d-da858a0df80c"
      },
      "execution_count": null,
      "outputs": [
        {
          "output_type": "stream",
          "name": "stdout",
          "text": [
            "(38500, 88)\n",
            "Benign labels: 37\n",
            "LDAP labels: 348\n",
            "MSSQL labels: 38115\n"
          ]
        }
      ]
    },
    {
      "cell_type": "code",
      "source": [
        "# Inspect value counts.\n",
        "MSSQL2.Label.value_counts()"
      ],
      "metadata": {
        "colab": {
          "base_uri": "https://localhost:8080/"
        },
        "id": "FpeCQck2SkuH",
        "outputId": "3f7c7c4e-753b-45b7-c70a-942d825f592c"
      },
      "execution_count": null,
      "outputs": [
        {
          "output_type": "execute_result",
          "data": {
            "text/plain": [
              "MSSQL     38115\n",
              "LDAP        348\n",
              "BENIGN       37\n",
              "Name: Label, dtype: int64"
            ]
          },
          "metadata": {},
          "execution_count": 29
        }
      ]
    },
    {
      "cell_type": "code",
      "source": [
        "# Append sampled dataset to combined file.\n",
        "MSSQL2.to_csv(output_path, mode='a', index=False, header=False)"
      ],
      "metadata": {
        "id": "Zzc9LXR7Sk3_"
      },
      "execution_count": null,
      "outputs": []
    },
    {
      "cell_type": "markdown",
      "source": [
        "## NetBIOS"
      ],
      "metadata": {
        "id": "ZN-3GC-iVpRK"
      }
    },
    {
      "cell_type": "code",
      "source": [
        "# Import NetBIOS.csv\n",
        "NetBIOS = pd.read_csv(\"/content/drive/MyDrive/Colab Notebooks/CT5108_Data_Analytics_Project/data/CICDDoS2019/testing/NetBIOS.csv\", \n",
        "                      header=0, sep=\",\", skipinitialspace=True) "
      ],
      "metadata": {
        "colab": {
          "base_uri": "https://localhost:8080/"
        },
        "id": "UaDz2tPHVr26",
        "outputId": "a2e8ebd0-d6d3-496a-88ee-ca83e540c751"
      },
      "execution_count": null,
      "outputs": [
        {
          "output_type": "stream",
          "name": "stderr",
          "text": [
            "/usr/local/lib/python3.7/dist-packages/IPython/core/interactiveshell.py:2882: DtypeWarning: Columns (85) have mixed types.Specify dtype option on import or set low_memory=False.\n",
            "  exec(code_obj, self.user_global_ns, self.user_ns)\n"
          ]
        }
      ]
    },
    {
      "cell_type": "code",
      "source": [
        "# Set seed and perform stratified sampling.\n",
        "np.random.seed(3)\n",
        "seed = int(np.random.randint(1, 100, size=1)) \n",
        "\n",
        "# Stratified sampled dataset.\n",
        "NetBIOS2 = NetBIOS.groupby('Label', group_keys=False).apply(lambda x: x.sample(frac=0.012, random_state=seed))\n",
        "\n",
        "# Release memory.\n",
        "del NetBIOS\n",
        "gc.collect()"
      ],
      "metadata": {
        "colab": {
          "base_uri": "https://localhost:8080/"
        },
        "id": "u9h5mzaGVr8H",
        "outputId": "52968784-7e9a-43e4-d704-2fb365c93e1c"
      },
      "execution_count": null,
      "outputs": [
        {
          "output_type": "execute_result",
          "data": {
            "text/plain": [
              "295"
            ]
          },
          "metadata": {},
          "execution_count": 22
        }
      ]
    },
    {
      "cell_type": "code",
      "source": [
        "# Inspect shape.\n",
        "print(NetBIOS2.shape)"
      ],
      "metadata": {
        "colab": {
          "base_uri": "https://localhost:8080/"
        },
        "id": "jRezjN4uVsFo",
        "outputId": "71c4d05d-95bf-4575-d63e-bfa619d81211"
      },
      "execution_count": null,
      "outputs": [
        {
          "output_type": "stream",
          "name": "stdout",
          "text": [
            "(41471, 88)\n",
            "Benign labels: 16\n",
            "NetBIOS labels: 41455\n"
          ]
        }
      ]
    },
    {
      "cell_type": "code",
      "source": [
        "# Inspect value counts.\n",
        "NetBIOS2.Label.value_counts()"
      ],
      "metadata": {
        "colab": {
          "base_uri": "https://localhost:8080/"
        },
        "id": "PDahwULQVr_E",
        "outputId": "dce6fde2-2c72-4117-ba6e-813678da33c9"
      },
      "execution_count": null,
      "outputs": [
        {
          "output_type": "execute_result",
          "data": {
            "text/plain": [
              "NetBIOS    41455\n",
              "BENIGN        16\n",
              "Name: Label, dtype: int64"
            ]
          },
          "metadata": {},
          "execution_count": 17
        }
      ]
    },
    {
      "cell_type": "code",
      "source": [
        "# Append sampled dataset to combined file.\n",
        "NetBIOS2.to_csv(output_path, mode='a', index=False, header=False)"
      ],
      "metadata": {
        "id": "m-uXgBIIVsKL"
      },
      "execution_count": null,
      "outputs": []
    },
    {
      "cell_type": "markdown",
      "source": [
        "## Portmap"
      ],
      "metadata": {
        "id": "jzvpuhufWBtC"
      }
    },
    {
      "cell_type": "code",
      "source": [
        "# Import Portmap.csv\n",
        "Portmap = pd.read_csv(\"/content/drive/MyDrive/Colab Notebooks/CT5108_Data_Analytics_Project/data/CICDDoS2019/testing/Portmap.csv\", \n",
        "                      header=0, sep=\",\", skipinitialspace=True) "
      ],
      "metadata": {
        "colab": {
          "base_uri": "https://localhost:8080/"
        },
        "id": "S4CZpYF6WKfr",
        "outputId": "9fe85ddd-5f8f-4eb3-935c-71af810f1ceb"
      },
      "execution_count": null,
      "outputs": [
        {
          "output_type": "stream",
          "name": "stderr",
          "text": [
            "/usr/local/lib/python3.7/dist-packages/IPython/core/interactiveshell.py:2882: DtypeWarning: Columns (85) have mixed types.Specify dtype option on import or set low_memory=False.\n",
            "  exec(code_obj, self.user_global_ns, self.user_ns)\n"
          ]
        }
      ]
    },
    {
      "cell_type": "code",
      "source": [
        "# Set seed and perform stratified sampling.\n",
        "np.random.seed(88)\n",
        "seed = int(np.random.randint(1, 100, size=1)) \n",
        "\n",
        "# Stratified sampled dataset.\n",
        "Portmap2 = Portmap.groupby('Label', group_keys=False).apply(lambda x: x.sample(frac=0.2, random_state=seed))"
      ],
      "metadata": {
        "id": "_JisHdRAWKlv"
      },
      "execution_count": null,
      "outputs": []
    },
    {
      "cell_type": "code",
      "source": [
        "# Inspect shape.\n",
        "print(Portmap2.shape)"
      ],
      "metadata": {
        "colab": {
          "base_uri": "https://localhost:8080/"
        },
        "id": "HEhwAeALXMkz",
        "outputId": "7861f034-75ee-450d-c9bb-5d18b21ac413"
      },
      "execution_count": null,
      "outputs": [
        {
          "output_type": "stream",
          "name": "stdout",
          "text": [
            "(38339, 88)\n",
            "Benign labels: 947\n",
            "NetBIOS labels: 37392\n"
          ]
        }
      ]
    },
    {
      "cell_type": "code",
      "source": [
        "# Inspect value counts.\n",
        "Portmap2.Label.value_counts()"
      ],
      "metadata": {
        "colab": {
          "base_uri": "https://localhost:8080/"
        },
        "id": "xeoyIj9-WK2S",
        "outputId": "fd091f39-523a-4bee-be72-4babdae517ca"
      },
      "execution_count": null,
      "outputs": [
        {
          "output_type": "execute_result",
          "data": {
            "text/plain": [
              "Portmap    37392\n",
              "BENIGN       947\n",
              "Name: Label, dtype: int64"
            ]
          },
          "metadata": {},
          "execution_count": 27
        }
      ]
    },
    {
      "cell_type": "code",
      "source": [
        "# Append sampled dataset to combined file.\n",
        "Portmap2.to_csv(output_path, mode='a', index=False, header=False)"
      ],
      "metadata": {
        "id": "4w8_U-_pXMqD"
      },
      "execution_count": null,
      "outputs": []
    },
    {
      "cell_type": "markdown",
      "source": [
        "## Syn2"
      ],
      "metadata": {
        "id": "kPqhYsoAY6N3"
      }
    },
    {
      "cell_type": "code",
      "source": [
        "# Import Syn2.csv\n",
        "Syn2 = pd.read_csv(\"/content/drive/MyDrive/Colab Notebooks/CT5108_Data_Analytics_Project/data/CICDDoS2019/testing/Syn2.csv\", \n",
        "                   header=0, sep=\",\", skipinitialspace=True) "
      ],
      "metadata": {
        "colab": {
          "base_uri": "https://localhost:8080/"
        },
        "id": "HVPCLIUIY6hV",
        "outputId": "f11e7970-ca02-41e8-9fe4-562e89a65b57"
      },
      "execution_count": null,
      "outputs": [
        {
          "output_type": "stream",
          "name": "stderr",
          "text": [
            "/usr/local/lib/python3.7/dist-packages/IPython/core/interactiveshell.py:2882: DtypeWarning: Columns (85) have mixed types.Specify dtype option on import or set low_memory=False.\n",
            "  exec(code_obj, self.user_global_ns, self.user_ns)\n"
          ]
        }
      ]
    },
    {
      "cell_type": "code",
      "source": [
        "# Set seed and perform stratified sampling.\n",
        "np.random.seed(67)\n",
        "seed = int(np.random.randint(1, 100, size=1)) \n",
        "\n",
        "# Stratified sampled dataset.\n",
        "Syn22 = Syn2.groupby('Label', group_keys=False).apply(lambda x: x.sample(frac=0.009, random_state=seed))\n",
        "\n",
        "# Release memory.\n",
        "del Syn2\n",
        "gc.collect()"
      ],
      "metadata": {
        "colab": {
          "base_uri": "https://localhost:8080/"
        },
        "id": "HBt54WwOY6qM",
        "outputId": "f88c5b1c-564e-4a5c-e87c-44797b3cec92"
      },
      "execution_count": null,
      "outputs": [
        {
          "output_type": "execute_result",
          "data": {
            "text/plain": [
              "575"
            ]
          },
          "metadata": {},
          "execution_count": 48
        }
      ]
    },
    {
      "cell_type": "code",
      "source": [
        "# Inspect shape.\n",
        "print(Syn22.shape)"
      ],
      "metadata": {
        "colab": {
          "base_uri": "https://localhost:8080/"
        },
        "id": "Z_kDAAfWY6wr",
        "outputId": "221f0d40-63f2-4456-a161-ddba5dfdeaf7"
      },
      "execution_count": null,
      "outputs": [
        {
          "output_type": "stream",
          "name": "stdout",
          "text": [
            "(38885, 88)\n",
            "Benign labels: 322\n",
            "NetBIOS labels: 38563\n"
          ]
        }
      ]
    },
    {
      "cell_type": "code",
      "source": [
        "# Inspect value counts.\n",
        "Syn22.Label.value_counts()"
      ],
      "metadata": {
        "colab": {
          "base_uri": "https://localhost:8080/"
        },
        "id": "6ZOmUW-XY6t2",
        "outputId": "50b413f6-c218-44d7-be57-fd247f14118d"
      },
      "execution_count": null,
      "outputs": [
        {
          "output_type": "execute_result",
          "data": {
            "text/plain": [
              "Syn       38563\n",
              "BENIGN      322\n",
              "Name: Label, dtype: int64"
            ]
          },
          "metadata": {},
          "execution_count": 44
        }
      ]
    },
    {
      "cell_type": "code",
      "source": [
        "# Append sampled dataset to combined file.\n",
        "Syn22.to_csv(output_path, mode='a', index=False, header=False)"
      ],
      "metadata": {
        "id": "kN7RtZpRY65o"
      },
      "execution_count": null,
      "outputs": []
    },
    {
      "cell_type": "markdown",
      "source": [
        "## UDP"
      ],
      "metadata": {
        "id": "wfWs9G2ebO07"
      }
    },
    {
      "cell_type": "code",
      "source": [
        "# Import UDP.csv (Note file name renamed to \"UDP_testing_day\".csv locally)\n",
        "udp = pd.read_csv(\"/content/drive/MyDrive/Colab Notebooks/CT5108_Data_Analytics_Project/data/CICDDoS2019/testing/UDP_testing_day.csv\", \n",
        "                  header=0, sep=\",\", skipinitialspace=True)"
      ],
      "metadata": {
        "colab": {
          "base_uri": "https://localhost:8080/"
        },
        "id": "qxelOBVbbPDV",
        "outputId": "004206f3-594e-4200-99d2-654829ef7314"
      },
      "execution_count": null,
      "outputs": [
        {
          "output_type": "stream",
          "name": "stderr",
          "text": [
            "/usr/local/lib/python3.7/dist-packages/IPython/core/interactiveshell.py:2882: DtypeWarning: Columns (85) have mixed types.Specify dtype option on import or set low_memory=False.\n",
            "  exec(code_obj, self.user_global_ns, self.user_ns)\n"
          ]
        }
      ]
    },
    {
      "cell_type": "code",
      "source": [
        "# Set seed and perform stratified sampling.\n",
        "np.random.seed(67)\n",
        "seed = int(np.random.randint(1, 100, size=1)) \n",
        "\n",
        "# Stratified sampled dataset.\n",
        "udp2 = udp.groupby('Label', group_keys=False).apply(lambda x: x.sample(frac=0.011, random_state=seed))"
      ],
      "metadata": {
        "id": "vEgxILKjbPF4"
      },
      "execution_count": null,
      "outputs": []
    },
    {
      "cell_type": "code",
      "source": [
        "# Inspect shape.\n",
        "print(udp2.shape)"
      ],
      "metadata": {
        "colab": {
          "base_uri": "https://localhost:8080/"
        },
        "id": "NYZYcKWJbPT3",
        "outputId": "93f345c3-9a5f-4edd-aa27-7a8eef81a03a"
      },
      "execution_count": null,
      "outputs": [
        {
          "output_type": "stream",
          "name": "stdout",
          "text": [
            "(41603, 88)\n",
            "Benign labels: 34\n",
            "UDP labels: 41301\n",
            "MSSQL labels: 268\n"
          ]
        }
      ]
    },
    {
      "cell_type": "code",
      "source": [
        "# Inspect value counts.\n",
        "udp2.Label.value_counts()"
      ],
      "metadata": {
        "colab": {
          "base_uri": "https://localhost:8080/"
        },
        "id": "clFdZJ35bPL6",
        "outputId": "2cb7b35c-44c2-4b79-d964-056f877486d5"
      },
      "execution_count": null,
      "outputs": [
        {
          "output_type": "execute_result",
          "data": {
            "text/plain": [
              "UDP       41301\n",
              "MSSQL       268\n",
              "BENIGN       34\n",
              "Name: Label, dtype: int64"
            ]
          },
          "metadata": {},
          "execution_count": 57
        }
      ]
    },
    {
      "cell_type": "code",
      "source": [
        "# Append sampled dataset to combined file.\n",
        "udp2.to_csv(output_path, mode='a', index=False, header=False)"
      ],
      "metadata": {
        "id": "gAzaPFZvb4ko"
      },
      "execution_count": null,
      "outputs": []
    },
    {
      "cell_type": "markdown",
      "source": [
        "## UDP Lag"
      ],
      "metadata": {
        "id": "9SIQyiuychr5"
      }
    },
    {
      "cell_type": "code",
      "source": [
        "# Import UDPLag.csv\n",
        "UDPLag = pd.read_csv(\"/content/drive/MyDrive/Colab Notebooks/CT5108_Data_Analytics_Project/data/CICDDoS2019/testing/UDPLag.csv\", \n",
        "                     header=0, sep=\",\", skipinitialspace=True)"
      ],
      "metadata": {
        "colab": {
          "base_uri": "https://localhost:8080/"
        },
        "id": "IZJ7u1clch3I",
        "outputId": "79d37f05-de16-4c11-9b4a-cba7bb8ff90f"
      },
      "execution_count": null,
      "outputs": [
        {
          "output_type": "stream",
          "name": "stderr",
          "text": [
            "/usr/local/lib/python3.7/dist-packages/IPython/core/interactiveshell.py:2882: DtypeWarning: Columns (85) have mixed types.Specify dtype option on import or set low_memory=False.\n",
            "  exec(code_obj, self.user_global_ns, self.user_ns)\n"
          ]
        }
      ]
    },
    {
      "cell_type": "code",
      "source": [
        "# Set seed and perform stratified sampling.\n",
        "np.random.seed(55)\n",
        "seed = int(np.random.randint(1, 100, size=1)) \n",
        "\n",
        "# Stratified sampled dataset.\n",
        "UDPLag2 = UDPLag.groupby('Label', group_keys=False).apply(lambda x: x.sample(frac=0.055, random_state=seed))"
      ],
      "metadata": {
        "id": "2Qap8XZdch7L"
      },
      "execution_count": null,
      "outputs": []
    },
    {
      "cell_type": "code",
      "source": [
        "# Inspect shape.\n",
        "print(UDPLag2.shape)"
      ],
      "metadata": {
        "colab": {
          "base_uri": "https://localhost:8080/"
        },
        "id": "a4UZJpI1cyHW",
        "outputId": "42a24060-4a68-486a-d60a-3725d134eb50"
      },
      "execution_count": null,
      "outputs": [
        {
          "output_type": "stream",
          "name": "stdout",
          "text": [
            "(39884, 88)\n",
            "Benign labels: 224\n",
            "UDPLag labels: 103\n",
            "UDP labels: 6186\n",
            "Syn labels: 33371\n"
          ]
        }
      ]
    },
    {
      "cell_type": "code",
      "source": [
        "# Inspect value counts.\n",
        "UDPLag.Label.value_counts()"
      ],
      "metadata": {
        "colab": {
          "base_uri": "https://localhost:8080/"
        },
        "id": "fV6fZzBVciFf",
        "outputId": "50caedaf-41dc-41a4-ac2a-5380e120219d"
      },
      "execution_count": null,
      "outputs": [
        {
          "output_type": "execute_result",
          "data": {
            "text/plain": [
              "Syn       606749\n",
              "UDP       112475\n",
              "BENIGN      4068\n",
              "UDPLag      1873\n",
              "Name: Label, dtype: int64"
            ]
          },
          "metadata": {},
          "execution_count": 79
        }
      ]
    },
    {
      "cell_type": "code",
      "source": [
        "# Append sampled dataset to combined file.\n",
        "UDPLag2.to_csv(output_path, mode='a', index=False, header=False)"
      ],
      "metadata": {
        "id": "7puDoQJacyOc"
      },
      "execution_count": null,
      "outputs": []
    },
    {
      "cell_type": "markdown",
      "source": [
        "# Load new datasets"
      ],
      "metadata": {
        "id": "f42Rg9LeYg4_"
      }
    },
    {
      "cell_type": "code",
      "source": [
        "# Load newly created combined training dataset and inspect.\n",
        "train = pd.read_csv(\"/content/drive/MyDrive/Colab Notebooks/CT5108_Data_Analytics_Project/data/CICDDoS2019/DDoS_combined_train.csv\", header=0, sep=\",\", skipinitialspace=True)"
      ],
      "metadata": {
        "colab": {
          "base_uri": "https://localhost:8080/"
        },
        "id": "02T_XNUXYf-4",
        "outputId": "07a1b1b9-05ba-4119-82d4-cec145f8f672"
      },
      "execution_count": null,
      "outputs": [
        {
          "output_type": "stream",
          "name": "stderr",
          "text": [
            "/usr/local/lib/python3.7/dist-packages/IPython/core/interactiveshell.py:2882: DtypeWarning: Columns (85) have mixed types.Specify dtype option on import or set low_memory=False.\n",
            "  exec(code_obj, self.user_global_ns, self.user_ns)\n"
          ]
        }
      ]
    },
    {
      "cell_type": "code",
      "source": [
        "train.shape"
      ],
      "metadata": {
        "colab": {
          "base_uri": "https://localhost:8080/"
        },
        "id": "sBcUltjG1Re9",
        "outputId": "24c7ff7b-345d-4b79-f924-1a98e2f17b5f"
      },
      "execution_count": null,
      "outputs": [
        {
          "output_type": "execute_result",
          "data": {
            "text/plain": [
              "(676989, 88)"
            ]
          },
          "metadata": {},
          "execution_count": 70
        }
      ]
    },
    {
      "cell_type": "code",
      "source": [
        "train.Label.value_counts()"
      ],
      "metadata": {
        "colab": {
          "base_uri": "https://localhost:8080/"
        },
        "id": "Zrtf6Pl0YuYP",
        "outputId": "2ddc1cb3-6c5b-484e-dbb3-5cac82c62f00"
      },
      "execution_count": null,
      "outputs": [
        {
          "output_type": "execute_result",
          "data": {
            "text/plain": [
              "DrDoS_LDAP       65398\n",
              "DrDoS_NetBIOS    63446\n",
              "Syn              63292\n",
              "DrDoS_SNMP       62951\n",
              "DrDoS_UDP        62693\n",
              "DrDoS_NTP        60132\n",
              "DrDoS_SSDP       60044\n",
              "TFTP             59930\n",
              "DrDoS_DNS        59880\n",
              "DrDoS_MSSQL      58792\n",
              "UDP-lag          58634\n",
              "BENIGN            1727\n",
              "WebDDoS             70\n",
              "Name: Label, dtype: int64"
            ]
          },
          "metadata": {},
          "execution_count": 69
        }
      ]
    },
    {
      "cell_type": "code",
      "source": [
        "# Load newly created combined test dataset and inspect.\n",
        "test = pd.read_csv(\"/content/drive/MyDrive/Colab Notebooks/CT5108_Data_Analytics_Project/data/CICDDoS2019/DDoS_combined_test.csv\", header=0, sep=\",\", skipinitialspace=True)"
      ],
      "metadata": {
        "colab": {
          "base_uri": "https://localhost:8080/"
        },
        "id": "b67yxVdqd1y6",
        "outputId": "1d6c15cd-7e56-4b38-90f0-5fca4c72b95a"
      },
      "execution_count": null,
      "outputs": [
        {
          "output_type": "stream",
          "name": "stderr",
          "text": [
            "/usr/local/lib/python3.7/dist-packages/IPython/core/interactiveshell.py:2882: DtypeWarning: Columns (85) have mixed types.Specify dtype option on import or set low_memory=False.\n",
            "  exec(code_obj, self.user_global_ns, self.user_ns)\n"
          ]
        }
      ]
    },
    {
      "cell_type": "code",
      "source": [
        "test.shape"
      ],
      "metadata": {
        "colab": {
          "base_uri": "https://localhost:8080/"
        },
        "id": "gHzkDjHId15R",
        "outputId": "aa8e527b-5283-4a2a-d662-8df34a491e0f"
      },
      "execution_count": null,
      "outputs": [
        {
          "output_type": "execute_result",
          "data": {
            "text/plain": [
              "(278833, 88)"
            ]
          },
          "metadata": {},
          "execution_count": 82
        }
      ]
    },
    {
      "cell_type": "code",
      "source": [
        "test.Label.value_counts()"
      ],
      "metadata": {
        "colab": {
          "base_uri": "https://localhost:8080/"
        },
        "id": "5-qZxMSPd12W",
        "outputId": "45907fc3-e5ca-45b9-c0dc-663ef6c42a9f"
      },
      "execution_count": null,
      "outputs": [
        {
          "output_type": "execute_result",
          "data": {
            "text/plain": [
              "Syn        71934\n",
              "UDP        47487\n",
              "NetBIOS    45310\n",
              "MSSQL      38383\n",
              "Portmap    37392\n",
              "LDAP       36547\n",
              "BENIGN      1677\n",
              "UDPLag       103\n",
              "Name: Label, dtype: int64"
            ]
          },
          "metadata": {},
          "execution_count": 83
        }
      ]
    }
  ]
}